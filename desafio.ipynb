{
  "nbformat": 4,
  "nbformat_minor": 0,
  "metadata": {
    "language_info": {
      "codemirror_mode": {
        "name": "ipython",
        "version": 3
      },
      "file_extension": ".py",
      "mimetype": "text/x-python",
      "name": "python",
      "nbconvert_exporter": "python",
      "pygments_lexer": "ipython3",
      "version": "3.8.5"
    },
    "orig_nbformat": 2,
    "kernelspec": {
      "name": "python38564bit8b293b89f0ff4306a4b3808275683ac8",
      "display_name": "Python 3.8.5 64-bit",
      "language": "python"
    },
    "colab": {
      "name": "desafio.ipynb",
      "provenance": [],
      "include_colab_link": true
    }
  },
  "cells": [
    {
      "cell_type": "markdown",
      "metadata": {
        "id": "view-in-github",
        "colab_type": "text"
      },
      "source": [
        "<a href=\"https://colab.research.google.com/github/MelloWill36/Python_Para_Analise_Dados/blob/main/desafio.ipynb\" target=\"_parent\"><img src=\"https://colab.research.google.com/assets/colab-badge.svg\" alt=\"Open In Colab\"/></a>"
      ]
    },
    {
      "cell_type": "code",
      "metadata": {
        "id": "NpmzBezmf3MC"
      },
      "source": [
        "import pandas as pd\n",
        "import numpy as np"
      ],
      "execution_count": 1,
      "outputs": []
    },
    {
      "cell_type": "code",
      "metadata": {
        "id": "Zu6Tp-D6f3MD"
      },
      "source": [
        "# Importando DataSet\n",
        "df = pd.read_csv('https://pycourse.s3.amazonaws.com/bike-sharing.csv')"
      ],
      "execution_count": 2,
      "outputs": []
    },
    {
      "cell_type": "code",
      "metadata": {
        "colab": {
          "base_uri": "https://localhost:8080/"
        },
        "id": "4l_Pb6kVf3MD",
        "outputId": "593ff1b0-c30c-43c5-8ef9-3b7c5827f447"
      },
      "source": [
        "# Tamanho do Dataset\n",
        "df.shape"
      ],
      "execution_count": 3,
      "outputs": [
        {
          "output_type": "execute_result",
          "data": {
            "text/plain": [
              "(17379, 17)"
            ]
          },
          "metadata": {
            "tags": []
          },
          "execution_count": 3
        }
      ]
    },
    {
      "cell_type": "code",
      "metadata": {
        "colab": {
          "base_uri": "https://localhost:8080/"
        },
        "id": "IdsO7FIqf3ME",
        "outputId": "ac4db9a5-af5a-41fc-c73e-012317255af4"
      },
      "source": [
        "# Media da coluna Windspeed\n",
        "df['windspeed'].mean()"
      ],
      "execution_count": 4,
      "outputs": [
        {
          "output_type": "execute_result",
          "data": {
            "text/plain": [
              "0.1900976063064631"
            ]
          },
          "metadata": {
            "tags": []
          },
          "execution_count": 4
        }
      ]
    },
    {
      "cell_type": "code",
      "metadata": {
        "id": "BmV5H97zf3ME",
        "outputId": "2addc6c7-937e-48a1-bb05-8590a304a134"
      },
      "source": [
        "# Media da coluna temp\n",
        "df['temp'].mean()"
      ],
      "execution_count": null,
      "outputs": [
        {
          "output_type": "execute_result",
          "data": {
            "text/plain": [
              "0.4969871684216583"
            ]
          },
          "metadata": {
            "tags": []
          },
          "execution_count": 8
        }
      ]
    },
    {
      "cell_type": "code",
      "metadata": {
        "id": "f5UU1RDff3MF",
        "outputId": "5c6bb7c9-95ec-4683-eea1-f0ae00afa5f3"
      },
      "source": [
        "# Quantidade de registros para 2011\n",
        "len(df.loc[df['year'] == 0])"
      ],
      "execution_count": null,
      "outputs": [
        {
          "output_type": "execute_result",
          "data": {
            "text/plain": [
              "8645"
            ]
          },
          "metadata": {
            "tags": []
          },
          "execution_count": 18
        }
      ]
    },
    {
      "cell_type": "code",
      "metadata": {
        "id": "35FM8bjWf3MF",
        "outputId": "561a479f-8df9-4ea5-94ba-41f9ca27cca0"
      },
      "source": [
        "# Quantidade de registros para 2012\n",
        "len(df.loc[df['year'] == 1])"
      ],
      "execution_count": null,
      "outputs": [
        {
          "output_type": "execute_result",
          "data": {
            "text/plain": [
              "8734"
            ]
          },
          "metadata": {
            "tags": []
          },
          "execution_count": 19
        }
      ]
    },
    {
      "cell_type": "code",
      "metadata": {
        "id": "oSTrG4Aff3MF",
        "outputId": "ad67d5e0-44a7-4a8f-8755-fc67c04d6316"
      },
      "source": [
        "# Quantas locações foram registradas para 2011\n",
        "df.loc[df['year'] == 0]['total_count'].sum()"
      ],
      "execution_count": null,
      "outputs": [
        {
          "output_type": "execute_result",
          "data": {
            "text/plain": [
              "1243103"
            ]
          },
          "metadata": {
            "tags": []
          },
          "execution_count": 96
        }
      ]
    },
    {
      "cell_type": "code",
      "metadata": {
        "id": "49sT948Mf3MF",
        "outputId": "9b393724-63f7-4f19-86e1-1f12543a7e66"
      },
      "source": [
        "# Quantas locações foram registradas para 2012\n",
        "df.loc[df['year'] == 1]['total_count'].sum()"
      ],
      "execution_count": null,
      "outputs": [
        {
          "output_type": "execute_result",
          "data": {
            "text/plain": [
              "2049576"
            ]
          },
          "metadata": {
            "tags": []
          },
          "execution_count": 97
        }
      ]
    },
    {
      "cell_type": "code",
      "metadata": {
        "id": "96tvV5Wff3MG",
        "outputId": "d5eb3c74-35de-409d-8c4f-eba2e9a884d5"
      },
      "source": [
        "# Qual estação do ano possui a maior média de locações\n",
        "df.groupby(by = ['season'])['total_count'].mean().sort_values(ascending = False).head(1)"
      ],
      "execution_count": null,
      "outputs": [
        {
          "output_type": "execute_result",
          "data": {
            "text/plain": [
              "season\n",
              "3    236.016237\n",
              "Name: total_count, dtype: float64"
            ]
          },
          "metadata": {
            "tags": []
          },
          "execution_count": 121
        }
      ]
    },
    {
      "cell_type": "code",
      "metadata": {
        "id": "crm6g1KAf3MG",
        "outputId": "7096d61d-5871-44a9-9e3e-76000fd6a775"
      },
      "source": [
        "# Qual estação do ano possui a menor média de locações\n",
        "df.groupby(by = ['season'])['total_count'].mean().sort_values(ascending = True).head(1)"
      ],
      "execution_count": null,
      "outputs": [
        {
          "output_type": "execute_result",
          "data": {
            "text/plain": [
              "season\n",
              "1    111.114569\n",
              "Name: total_count, dtype: float64"
            ]
          },
          "metadata": {
            "tags": []
          },
          "execution_count": 120
        }
      ]
    },
    {
      "cell_type": "code",
      "metadata": {
        "id": "mYDpmKgdf3MG",
        "outputId": "464e3d4d-cd87-4022-a89e-11e07e6213e5"
      },
      "source": [
        "# Qual horario do dia possui a maior media de locacao\n",
        "df.groupby(by = ['hour'])['total_count'].mean().sort_values(ascending = False).head(1)"
      ],
      "execution_count": null,
      "outputs": [
        {
          "output_type": "execute_result",
          "data": {
            "text/plain": [
              "hour\n",
              "17    461.452055\n",
              "Name: total_count, dtype: float64"
            ]
          },
          "metadata": {
            "tags": []
          },
          "execution_count": 119
        }
      ]
    },
    {
      "cell_type": "code",
      "metadata": {
        "id": "pYMuT_mDf3MG",
        "outputId": "de49b7f3-1b3d-495d-f07a-3f1e24ccfe46"
      },
      "source": [
        "# Qual horario do dia possui a menor media de locacao\n",
        "df.groupby(by = ['hour'])['total_count'].mean().sort_values(ascending = True).head(1)"
      ],
      "execution_count": null,
      "outputs": [
        {
          "output_type": "execute_result",
          "data": {
            "text/plain": [
              "hour\n",
              "4    6.352941\n",
              "Name: total_count, dtype: float64"
            ]
          },
          "metadata": {
            "tags": []
          },
          "execution_count": 114
        }
      ]
    },
    {
      "cell_type": "code",
      "metadata": {
        "id": "3hb7vQ3pf3MH",
        "outputId": "a3a94291-4787-414e-ee9c-16c866485ba9"
      },
      "source": [
        "# Qual dia da semana possui a maior média de locações\n",
        "df.groupby(by = ['weekday'])['total_count'].mean().sort_values(ascending = False).head(1)"
      ],
      "execution_count": null,
      "outputs": [
        {
          "output_type": "execute_result",
          "data": {
            "text/plain": [
              "weekday\n",
              "4    196.436665\n",
              "Name: total_count, dtype: float64"
            ]
          },
          "metadata": {
            "tags": []
          },
          "execution_count": 115
        }
      ]
    },
    {
      "cell_type": "code",
      "metadata": {
        "id": "ybJ7Q_ynf3MH",
        "outputId": "fdc9f065-e3ad-4b2d-d8fd-46db0ef3af25"
      },
      "source": [
        "# Qual dia da semana possui a menor média de locações\n",
        "df.groupby(by = ['weekday'])['total_count'].mean().sort_values(ascending = True).head(1)"
      ],
      "execution_count": null,
      "outputs": [
        {
          "output_type": "execute_result",
          "data": {
            "text/plain": [
              "weekday\n",
              "0    177.468825\n",
              "Name: total_count, dtype: float64"
            ]
          },
          "metadata": {
            "tags": []
          },
          "execution_count": 116
        }
      ]
    },
    {
      "cell_type": "code",
      "metadata": {
        "id": "QNGHqnUkf3MH",
        "outputId": "7bd3e65f-19e8-409f-d237-69820fa8b0e0"
      },
      "source": [
        "# As quartas feiras, qual é o horario do dia tem a maior media de locação\n",
        "df.loc[df['weekday'] == 3].groupby(by = ['hour'])['total_count'].mean().sort_values(ascending = False).head(1)"
      ],
      "execution_count": null,
      "outputs": [
        {
          "output_type": "execute_result",
          "data": {
            "text/plain": [
              "hour\n",
              "17    513.144231\n",
              "Name: total_count, dtype: float64"
            ]
          },
          "metadata": {
            "tags": []
          },
          "execution_count": 117
        }
      ]
    },
    {
      "cell_type": "code",
      "metadata": {
        "id": "qgyvzt8pf3MI",
        "outputId": "b6d7c8fe-2bb7-4e70-e61f-5cf1f716d8bb"
      },
      "source": [
        "# Aos sabados feiras, qual é o horario do dia tem a maior media de locação\n",
        "df.loc[df['weekday'] == 6].groupby(by = ['hour'])['total_count'].mean().sort_values(ascending = False).head(1)"
      ],
      "execution_count": null,
      "outputs": [
        {
          "output_type": "execute_result",
          "data": {
            "text/plain": [
              "hour\n",
              "13    385.371429\n",
              "Name: total_count, dtype: float64"
            ]
          },
          "metadata": {
            "tags": []
          },
          "execution_count": 118
        }
      ]
    }
  ]
}
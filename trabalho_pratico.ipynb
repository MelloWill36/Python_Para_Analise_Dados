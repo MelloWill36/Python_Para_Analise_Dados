{
  "nbformat": 4,
  "nbformat_minor": 0,
  "metadata": {
    "language_info": {
      "codemirror_mode": {
        "name": "ipython",
        "version": 3
      },
      "file_extension": ".py",
      "mimetype": "text/x-python",
      "name": "python",
      "nbconvert_exporter": "python",
      "pygments_lexer": "ipython3",
      "version": "3.8.5"
    },
    "orig_nbformat": 2,
    "kernelspec": {
      "name": "python38564bit8b293b89f0ff4306a4b3808275683ac8",
      "display_name": "Python 3.8.5 64-bit",
      "language": "python"
    },
    "colab": {
      "name": "trabalho_pratico.ipynb",
      "provenance": [],
      "include_colab_link": true
    }
  },
  "cells": [
    {
      "cell_type": "markdown",
      "metadata": {
        "id": "view-in-github",
        "colab_type": "text"
      },
      "source": [
        "<a href=\"https://colab.research.google.com/github/MelloWill36/Python_Para_Analise_Dados/blob/main/trabalho_pratico.ipynb\" target=\"_parent\"><img src=\"https://colab.research.google.com/assets/colab-badge.svg\" alt=\"Open In Colab\"/></a>"
      ]
    },
    {
      "cell_type": "markdown",
      "metadata": {
        "id": "arqDbN83cibb"
      },
      "source": [
        "## Resolução do Trabalho Pratico"
      ]
    },
    {
      "cell_type": "code",
      "metadata": {
        "id": "fgBm3lBScibb"
      },
      "source": [
        "import numpy as np\n",
        "import pandas as pd"
      ],
      "execution_count": 1,
      "outputs": []
    },
    {
      "cell_type": "code",
      "metadata": {
        "colab": {
          "base_uri": "https://localhost:8080/"
        },
        "id": "An0dxg0Dcibc",
        "outputId": "99dd8bd1-7306-456f-f25f-620372414946"
      },
      "source": [
        "# == CODIGO 01 == #\n",
        "Z = np.zeros((4,))\n",
        "print('Z: ', Z)\n",
        "print('\\n')\n",
        "\n",
        "# == CODIGO 02 == #\n",
        "Z = np.zeros((4,))\n",
        "Z[1] = 1.\n",
        "print('Z: ', Z)\n",
        "print('\\n')\n",
        "\n",
        "# == CODIGO 03 == #\n",
        "Z = np.zeros((4,))\n",
        "Z[1:] = 1.\n",
        "print('Z: ', Z)\n",
        "print('\\n')\n",
        "\n",
        "# == CODIGO 04 == #\n",
        "Z = np.zeros((4,))\n",
        "Z[:-1] = 1.\n",
        "print('Z: ', Z)\n",
        "print('\\n')\n",
        "\n",
        "# == CODIGO 05 == #\n",
        "X = np.ones((2,2)) + 1\n",
        "print('X: \\n', X)\n",
        "print('\\n')\n",
        "\n",
        "# == CODIGO 06 == #\n",
        "X = np.array([[1,2], [3,4]])\n",
        "Y = X[0,:]\n",
        "Y[1] = 10\n",
        "print('X: \\n', X)\n",
        "print('\\n')\n",
        "\n",
        "# == CODIGO 07 == #\n",
        "X = np.array([[1,3], [11,10]])\n",
        "print(np.mean(X[X > np.pi]))\n",
        "print('\\n')\n",
        "\n",
        "# == CODIGO 08 == #\n",
        "data = {\n",
        "    'animal': ['cat', 'cat', 'snake', 'dog', 'dog', 'cat', 'snake', 'cat', 'dog', 'dog'],\n",
        "    'age': [2.5, 3, 0.5, np.nan, 5, 2, 4.5, np.nan, 7, 3],\n",
        "    'visits': [1, 3, 2, 3, 2, 3, 1, 1, 2, 1],\n",
        "    'priority': ['yes', 'yes', 'no', 'yes', 'no', 'no', 'no', 'yes', 'no', 'no']\n",
        "}\n",
        "\n",
        "labels = ['a', 'b', 'c', 'd', 'e', 'f', 'g', 'h', 'i', 'j']\n",
        "\n",
        "# == CODIGO 09 == #\n",
        "df = pd.DataFrame(data = data, index = labels)\n",
        "\n",
        "# == CODIGO 10 == #\n",
        "y_true = np.array([1., 2., 1.])\n",
        "y_pred = np.array([1.1, 1.98, 1.05])"
      ],
      "execution_count": 14,
      "outputs": [
        {
          "output_type": "stream",
          "text": [
            "Z:  [0. 0. 0. 0.]\n",
            "\n",
            "\n",
            "Z:  [0. 1. 0. 0.]\n",
            "\n",
            "\n",
            "Z:  [0. 1. 1. 1.]\n",
            "\n",
            "\n",
            "Z:  [1. 1. 1. 0.]\n",
            "\n",
            "\n",
            "X: \n",
            " [[2. 2.]\n",
            " [2. 2.]]\n",
            "\n",
            "\n",
            "X: \n",
            " [[ 1 10]\n",
            " [ 3  4]]\n",
            "\n",
            "\n",
            "10.5\n",
            "\n",
            "\n"
          ],
          "name": "stdout"
        }
      ]
    },
    {
      "cell_type": "code",
      "metadata": {
        "colab": {
          "base_uri": "https://localhost:8080/"
        },
        "id": "b1C6-g50cibd",
        "outputId": "c5af3a6a-cd87-4080-eab2-678bbef610f8"
      },
      "source": [
        "Z = np.ones((4,)) \n",
        "Z[3] = 0.\n",
        "print(Z)\n",
        "Z = np.zeros((4, )) \n",
        "Z[:-1] = 1.\n",
        "print(Z)\n",
        "Z = np.zeros((4, )) \n",
        "Z[:3] = 1.\n",
        "print(Z)\n",
        "Z = np.ones((4,)) \n",
        "Z[-1] = 0.\n",
        "print(Z)"
      ],
      "execution_count": 3,
      "outputs": [
        {
          "output_type": "stream",
          "text": [
            "[1. 1. 1. 0.]\n",
            "[1. 1. 1. 0.]\n",
            "[1. 1. 1. 0.]\n",
            "[1. 1. 1. 0.]\n"
          ],
          "name": "stdout"
        }
      ]
    },
    {
      "cell_type": "code",
      "metadata": {
        "colab": {
          "base_uri": "https://localhost:8080/"
        },
        "id": "qEekTclHcibd",
        "outputId": "b1e51010-155a-4457-87e7-3dfbaff94a83"
      },
      "source": [
        "X = np.array([2.] * 4).reshape(2, 2)\n",
        "print(X)"
      ],
      "execution_count": 4,
      "outputs": [
        {
          "output_type": "stream",
          "text": [
            "[[2. 2.]\n",
            " [2. 2.]]\n"
          ],
          "name": "stdout"
        }
      ]
    },
    {
      "cell_type": "code",
      "metadata": {
        "colab": {
          "base_uri": "https://localhost:8080/"
        },
        "id": "NK7rQ9hacibd",
        "outputId": "2287a7bb-dba9-4329-a2e8-ba7a6c252649"
      },
      "source": [
        "df.shape"
      ],
      "execution_count": 5,
      "outputs": [
        {
          "output_type": "execute_result",
          "data": {
            "text/plain": [
              "(10, 4)"
            ]
          },
          "metadata": {
            "tags": []
          },
          "execution_count": 5
        }
      ]
    },
    {
      "cell_type": "code",
      "metadata": {
        "colab": {
          "base_uri": "https://localhost:8080/"
        },
        "id": "bO_3F32Scibe",
        "outputId": "53796c2f-4cb2-4bb7-9d5c-20c959b33e8f"
      },
      "source": [
        "df['animal'].value_counts()"
      ],
      "execution_count": 6,
      "outputs": [
        {
          "output_type": "execute_result",
          "data": {
            "text/plain": [
              "cat      4\n",
              "dog      4\n",
              "snake    2\n",
              "Name: animal, dtype: int64"
            ]
          },
          "metadata": {
            "tags": []
          },
          "execution_count": 6
        }
      ]
    },
    {
      "cell_type": "code",
      "metadata": {
        "colab": {
          "base_uri": "https://localhost:8080/",
          "height": 297
        },
        "id": "FdY9m9NHcibe",
        "outputId": "0d0f6b7f-a9c1-4080-b3e2-dde201398551"
      },
      "source": [
        "df.describe()"
      ],
      "execution_count": 7,
      "outputs": [
        {
          "output_type": "execute_result",
          "data": {
            "text/html": [
              "<div>\n",
              "<style scoped>\n",
              "    .dataframe tbody tr th:only-of-type {\n",
              "        vertical-align: middle;\n",
              "    }\n",
              "\n",
              "    .dataframe tbody tr th {\n",
              "        vertical-align: top;\n",
              "    }\n",
              "\n",
              "    .dataframe thead th {\n",
              "        text-align: right;\n",
              "    }\n",
              "</style>\n",
              "<table border=\"1\" class=\"dataframe\">\n",
              "  <thead>\n",
              "    <tr style=\"text-align: right;\">\n",
              "      <th></th>\n",
              "      <th>age</th>\n",
              "      <th>visits</th>\n",
              "    </tr>\n",
              "  </thead>\n",
              "  <tbody>\n",
              "    <tr>\n",
              "      <th>count</th>\n",
              "      <td>8.000000</td>\n",
              "      <td>10.000000</td>\n",
              "    </tr>\n",
              "    <tr>\n",
              "      <th>mean</th>\n",
              "      <td>3.437500</td>\n",
              "      <td>1.900000</td>\n",
              "    </tr>\n",
              "    <tr>\n",
              "      <th>std</th>\n",
              "      <td>2.007797</td>\n",
              "      <td>0.875595</td>\n",
              "    </tr>\n",
              "    <tr>\n",
              "      <th>min</th>\n",
              "      <td>0.500000</td>\n",
              "      <td>1.000000</td>\n",
              "    </tr>\n",
              "    <tr>\n",
              "      <th>25%</th>\n",
              "      <td>2.375000</td>\n",
              "      <td>1.000000</td>\n",
              "    </tr>\n",
              "    <tr>\n",
              "      <th>50%</th>\n",
              "      <td>3.000000</td>\n",
              "      <td>2.000000</td>\n",
              "    </tr>\n",
              "    <tr>\n",
              "      <th>75%</th>\n",
              "      <td>4.625000</td>\n",
              "      <td>2.750000</td>\n",
              "    </tr>\n",
              "    <tr>\n",
              "      <th>max</th>\n",
              "      <td>7.000000</td>\n",
              "      <td>3.000000</td>\n",
              "    </tr>\n",
              "  </tbody>\n",
              "</table>\n",
              "</div>"
            ],
            "text/plain": [
              "            age     visits\n",
              "count  8.000000  10.000000\n",
              "mean   3.437500   1.900000\n",
              "std    2.007797   0.875595\n",
              "min    0.500000   1.000000\n",
              "25%    2.375000   1.000000\n",
              "50%    3.000000   2.000000\n",
              "75%    4.625000   2.750000\n",
              "max    7.000000   3.000000"
            ]
          },
          "metadata": {
            "tags": []
          },
          "execution_count": 7
        }
      ]
    },
    {
      "cell_type": "code",
      "metadata": {
        "colab": {
          "base_uri": "https://localhost:8080/"
        },
        "id": "LVqyMX2Vcibe",
        "outputId": "2f0bacb8-21a7-462f-ae32-bcbb3bb6040d"
      },
      "source": [
        "#df['visits']\n",
        "#df.iloc[:, -2]\n",
        "#df.loc[:, 'visits']\n",
        "df.iloc[:, 3]"
      ],
      "execution_count": 8,
      "outputs": [
        {
          "output_type": "execute_result",
          "data": {
            "text/plain": [
              "a    yes\n",
              "b    yes\n",
              "c     no\n",
              "d    yes\n",
              "e     no\n",
              "f     no\n",
              "g     no\n",
              "h    yes\n",
              "i     no\n",
              "j     no\n",
              "Name: priority, dtype: object"
            ]
          },
          "metadata": {
            "tags": []
          },
          "execution_count": 8
        }
      ]
    },
    {
      "cell_type": "code",
      "metadata": {
        "colab": {
          "base_uri": "https://localhost:8080/",
          "height": 359
        },
        "id": "jqS8T2Vacibe",
        "outputId": "e3cbcab3-c59f-441d-a0ea-4d81886ccfd6"
      },
      "source": [
        "df.sort_values(by='visits', ascending=False)"
      ],
      "execution_count": 9,
      "outputs": [
        {
          "output_type": "execute_result",
          "data": {
            "text/html": [
              "<div>\n",
              "<style scoped>\n",
              "    .dataframe tbody tr th:only-of-type {\n",
              "        vertical-align: middle;\n",
              "    }\n",
              "\n",
              "    .dataframe tbody tr th {\n",
              "        vertical-align: top;\n",
              "    }\n",
              "\n",
              "    .dataframe thead th {\n",
              "        text-align: right;\n",
              "    }\n",
              "</style>\n",
              "<table border=\"1\" class=\"dataframe\">\n",
              "  <thead>\n",
              "    <tr style=\"text-align: right;\">\n",
              "      <th></th>\n",
              "      <th>animal</th>\n",
              "      <th>age</th>\n",
              "      <th>visits</th>\n",
              "      <th>priority</th>\n",
              "    </tr>\n",
              "  </thead>\n",
              "  <tbody>\n",
              "    <tr>\n",
              "      <th>b</th>\n",
              "      <td>cat</td>\n",
              "      <td>3.0</td>\n",
              "      <td>3</td>\n",
              "      <td>yes</td>\n",
              "    </tr>\n",
              "    <tr>\n",
              "      <th>d</th>\n",
              "      <td>dog</td>\n",
              "      <td>NaN</td>\n",
              "      <td>3</td>\n",
              "      <td>yes</td>\n",
              "    </tr>\n",
              "    <tr>\n",
              "      <th>f</th>\n",
              "      <td>cat</td>\n",
              "      <td>2.0</td>\n",
              "      <td>3</td>\n",
              "      <td>no</td>\n",
              "    </tr>\n",
              "    <tr>\n",
              "      <th>c</th>\n",
              "      <td>snake</td>\n",
              "      <td>0.5</td>\n",
              "      <td>2</td>\n",
              "      <td>no</td>\n",
              "    </tr>\n",
              "    <tr>\n",
              "      <th>e</th>\n",
              "      <td>dog</td>\n",
              "      <td>5.0</td>\n",
              "      <td>2</td>\n",
              "      <td>no</td>\n",
              "    </tr>\n",
              "    <tr>\n",
              "      <th>i</th>\n",
              "      <td>dog</td>\n",
              "      <td>7.0</td>\n",
              "      <td>2</td>\n",
              "      <td>no</td>\n",
              "    </tr>\n",
              "    <tr>\n",
              "      <th>a</th>\n",
              "      <td>cat</td>\n",
              "      <td>2.5</td>\n",
              "      <td>1</td>\n",
              "      <td>yes</td>\n",
              "    </tr>\n",
              "    <tr>\n",
              "      <th>g</th>\n",
              "      <td>snake</td>\n",
              "      <td>4.5</td>\n",
              "      <td>1</td>\n",
              "      <td>no</td>\n",
              "    </tr>\n",
              "    <tr>\n",
              "      <th>h</th>\n",
              "      <td>cat</td>\n",
              "      <td>NaN</td>\n",
              "      <td>1</td>\n",
              "      <td>yes</td>\n",
              "    </tr>\n",
              "    <tr>\n",
              "      <th>j</th>\n",
              "      <td>dog</td>\n",
              "      <td>3.0</td>\n",
              "      <td>1</td>\n",
              "      <td>no</td>\n",
              "    </tr>\n",
              "  </tbody>\n",
              "</table>\n",
              "</div>"
            ],
            "text/plain": [
              "  animal  age  visits priority\n",
              "b    cat  3.0       3      yes\n",
              "d    dog  NaN       3      yes\n",
              "f    cat  2.0       3       no\n",
              "c  snake  0.5       2       no\n",
              "e    dog  5.0       2       no\n",
              "i    dog  7.0       2       no\n",
              "a    cat  2.5       1      yes\n",
              "g  snake  4.5       1       no\n",
              "h    cat  NaN       1      yes\n",
              "j    dog  3.0       1       no"
            ]
          },
          "metadata": {
            "tags": []
          },
          "execution_count": 9
        }
      ]
    },
    {
      "cell_type": "code",
      "metadata": {
        "colab": {
          "base_uri": "https://localhost:8080/"
        },
        "id": "wtzTRfs0cibe",
        "outputId": "00bf40b7-0c50-4502-9305-0f1ac3a52b81"
      },
      "source": [
        "#y_true = np.array([1., 2., 1.])\n",
        "#y_pred = np.array([1.1, 1.98, 1.05])\n",
        "\n",
        "y_true = np.array([1., 2., 1.])\n",
        "y_pred = np.array([-1., -2., -1.])\n",
        "\n",
        "\n",
        "print(np.sqrt(((y_true-y_pred)**2).mean()))\n",
        "print(((y_true-y_pred)**2).mean())"
      ],
      "execution_count": 15,
      "outputs": [
        {
          "output_type": "stream",
          "text": [
            "2.8284271247461903\n",
            "8.0\n"
          ],
          "name": "stdout"
        }
      ]
    },
    {
      "cell_type": "code",
      "metadata": {
        "id": "rS2CKW6Ucibf"
      },
      "source": [
        ""
      ],
      "execution_count": null,
      "outputs": []
    }
  ]
}
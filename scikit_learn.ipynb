{
  "nbformat": 4,
  "nbformat_minor": 0,
  "metadata": {
    "language_info": {
      "codemirror_mode": {
        "name": "ipython",
        "version": 3
      },
      "file_extension": ".py",
      "mimetype": "text/x-python",
      "name": "python",
      "nbconvert_exporter": "python",
      "pygments_lexer": "ipython3",
      "version": "3.8.5"
    },
    "orig_nbformat": 2,
    "kernelspec": {
      "name": "python38564bit8b293b89f0ff4306a4b3808275683ac8",
      "display_name": "Python 3.8.5 64-bit",
      "language": "python"
    },
    "colab": {
      "name": "scikit-learn.ipynb",
      "provenance": [],
      "include_colab_link": true
    }
  },
  "cells": [
    {
      "cell_type": "markdown",
      "metadata": {
        "id": "view-in-github",
        "colab_type": "text"
      },
      "source": [
        "<a href=\"https://colab.research.google.com/github/MelloWill36/Python_Para_Analise_Dados/blob/main/scikit_learn.ipynb\" target=\"_parent\"><img src=\"https://colab.research.google.com/assets/colab-badge.svg\" alt=\"Open In Colab\"/></a>"
      ]
    },
    {
      "cell_type": "code",
      "metadata": {
        "id": "ZQ1FeP_AU0sD"
      },
      "source": [
        " import pandas as pd\n",
        " import numpy as np\n",
        " import matplotlib.pyplot as plt\n",
        " from sklearn.preprocessing import LabelEncoder\n",
        " from sklearn.linear_model import LogisticRegression\n",
        " from sklearn.linear_model import LinearRegression"
      ],
      "execution_count": 1,
      "outputs": []
    },
    {
      "cell_type": "markdown",
      "metadata": {
        "id": "L9I1ndcHU0sG"
      },
      "source": [
        "## Classificação"
      ]
    },
    {
      "cell_type": "code",
      "metadata": {
        "id": "845cIrSWU0sG"
      },
      "source": [
        "# Coleta de Dados\n",
        "df = pd.read_csv('https://pycourse.s3.amazonaws.com/temperature.csv')"
      ],
      "execution_count": 2,
      "outputs": []
    },
    {
      "cell_type": "code",
      "metadata": {
        "id": "uupVdR6ZU0sH"
      },
      "source": [
        "# Define a coluna date como index\n",
        "df['date'] = pd.to_datetime(df['date'])\n",
        "df = df.set_index('date')"
      ],
      "execution_count": 3,
      "outputs": []
    },
    {
      "cell_type": "code",
      "metadata": {
        "colab": {
          "base_uri": "https://localhost:8080/"
        },
        "id": "1XuRuAM-U0sH",
        "outputId": "3ea1d217-52eb-4816-fb09-59a74cf4f29c"
      },
      "source": [
        "# Definição do X e Y\n",
        "x, y = df[['temperatura']].values, df[['classification']].values\n",
        "print('x = ', x)\n",
        "print('y = ', y)"
      ],
      "execution_count": 4,
      "outputs": [
        {
          "output_type": "stream",
          "text": [
            "x =  [[29.1]\n",
            " [31.2]\n",
            " [28.5]\n",
            " [28. ]\n",
            " [24. ]\n",
            " [20. ]]\n",
            "y =  [['quente']\n",
            " ['muito quente']\n",
            " ['quente']\n",
            " ['quente']\n",
            " ['confortavel']\n",
            " ['frio']]\n"
          ],
          "name": "stdout"
        }
      ]
    },
    {
      "cell_type": "code",
      "metadata": {
        "colab": {
          "base_uri": "https://localhost:8080/"
        },
        "id": "QgFZNTLwU0sJ",
        "outputId": "9fe10c4b-49ef-4882-9e7b-815a24e13b5d"
      },
      "source": [
        "# conversão de Y para valores numericos\n",
        "le = LabelEncoder()\n",
        "y = le.fit_transform(y.ravel())\n",
        "print('y = ', y)"
      ],
      "execution_count": 5,
      "outputs": [
        {
          "output_type": "stream",
          "text": [
            "y =  [3 2 3 3 0 1]\n"
          ],
          "name": "stdout"
        }
      ]
    },
    {
      "cell_type": "code",
      "metadata": {
        "colab": {
          "base_uri": "https://localhost:8080/"
        },
        "id": "ukQ-DI2yU0sJ",
        "outputId": "31e97c53-714a-4704-e54c-2be43fbb3ae4"
      },
      "source": [
        "# Classificador\n",
        "clf = LogisticRegression()\n",
        "clf.fit(x, y)"
      ],
      "execution_count": 6,
      "outputs": [
        {
          "output_type": "execute_result",
          "data": {
            "text/plain": [
              "LogisticRegression(C=1.0, class_weight=None, dual=False, fit_intercept=True,\n",
              "                   intercept_scaling=1, l1_ratio=None, max_iter=100,\n",
              "                   multi_class='auto', n_jobs=None, penalty='l2',\n",
              "                   random_state=None, solver='lbfgs', tol=0.0001, verbose=0,\n",
              "                   warm_start=False)"
            ]
          },
          "metadata": {
            "tags": []
          },
          "execution_count": 6
        }
      ]
    },
    {
      "cell_type": "code",
      "metadata": {
        "id": "M9ZtuesyU0sK"
      },
      "source": [
        "# gerando 100 valores de temperaturas\n",
        "x_test = np.linspace(start = 0., stop = 45., num = 100).reshape(-1,1)\n",
        "\n",
        "# predição de x_test\n",
        "y_pred = clf.predict(x_test)"
      ],
      "execution_count": 7,
      "outputs": []
    },
    {
      "cell_type": "code",
      "metadata": {
        "id": "saZaDXDuU0sL"
      },
      "source": [
        "# conversão dos valores y_test pro valor original\n",
        "y_pred = le.inverse_transform(y_pred)"
      ],
      "execution_count": 8,
      "outputs": []
    },
    {
      "cell_type": "code",
      "metadata": {
        "id": "rJ48mLAwU0sL"
      },
      "source": [
        "# saida\n",
        "saida = {\n",
        "    'new_temp': x_test.ravel(),\n",
        "    'new_class': y_pred.ravel()\n",
        "}\n",
        "df_saida = pd.DataFrame(saida)"
      ],
      "execution_count": 9,
      "outputs": []
    },
    {
      "cell_type": "code",
      "metadata": {
        "colab": {
          "base_uri": "https://localhost:8080/"
        },
        "id": "PLSZbzemU0sM",
        "outputId": "a1961a9f-560c-48cd-8282-be33f6c61538"
      },
      "source": [
        "df_saida.info()"
      ],
      "execution_count": 10,
      "outputs": [
        {
          "output_type": "stream",
          "text": [
            "<class 'pandas.core.frame.DataFrame'>\n",
            "RangeIndex: 100 entries, 0 to 99\n",
            "Data columns (total 2 columns):\n",
            " #   Column     Non-Null Count  Dtype  \n",
            "---  ------     --------------  -----  \n",
            " 0   new_temp   100 non-null    float64\n",
            " 1   new_class  100 non-null    object \n",
            "dtypes: float64(1), object(1)\n",
            "memory usage: 1.7+ KB\n"
          ],
          "name": "stdout"
        }
      ]
    },
    {
      "cell_type": "code",
      "metadata": {
        "colab": {
          "base_uri": "https://localhost:8080/",
          "height": 297
        },
        "id": "_8ZFzXyjU0sM",
        "outputId": "1f14749e-af7a-48c3-e212-7feb86a95f8f"
      },
      "source": [
        "df_saida.describe()"
      ],
      "execution_count": 11,
      "outputs": [
        {
          "output_type": "execute_result",
          "data": {
            "text/html": [
              "<div>\n",
              "<style scoped>\n",
              "    .dataframe tbody tr th:only-of-type {\n",
              "        vertical-align: middle;\n",
              "    }\n",
              "\n",
              "    .dataframe tbody tr th {\n",
              "        vertical-align: top;\n",
              "    }\n",
              "\n",
              "    .dataframe thead th {\n",
              "        text-align: right;\n",
              "    }\n",
              "</style>\n",
              "<table border=\"1\" class=\"dataframe\">\n",
              "  <thead>\n",
              "    <tr style=\"text-align: right;\">\n",
              "      <th></th>\n",
              "      <th>new_temp</th>\n",
              "    </tr>\n",
              "  </thead>\n",
              "  <tbody>\n",
              "    <tr>\n",
              "      <th>count</th>\n",
              "      <td>100.000000</td>\n",
              "    </tr>\n",
              "    <tr>\n",
              "      <th>mean</th>\n",
              "      <td>22.500000</td>\n",
              "    </tr>\n",
              "    <tr>\n",
              "      <th>std</th>\n",
              "      <td>13.187042</td>\n",
              "    </tr>\n",
              "    <tr>\n",
              "      <th>min</th>\n",
              "      <td>0.000000</td>\n",
              "    </tr>\n",
              "    <tr>\n",
              "      <th>25%</th>\n",
              "      <td>11.250000</td>\n",
              "    </tr>\n",
              "    <tr>\n",
              "      <th>50%</th>\n",
              "      <td>22.500000</td>\n",
              "    </tr>\n",
              "    <tr>\n",
              "      <th>75%</th>\n",
              "      <td>33.750000</td>\n",
              "    </tr>\n",
              "    <tr>\n",
              "      <th>max</th>\n",
              "      <td>45.000000</td>\n",
              "    </tr>\n",
              "  </tbody>\n",
              "</table>\n",
              "</div>"
            ],
            "text/plain": [
              "         new_temp\n",
              "count  100.000000\n",
              "mean    22.500000\n",
              "std     13.187042\n",
              "min      0.000000\n",
              "25%     11.250000\n",
              "50%     22.500000\n",
              "75%     33.750000\n",
              "max     45.000000"
            ]
          },
          "metadata": {
            "tags": []
          },
          "execution_count": 11
        }
      ]
    },
    {
      "cell_type": "code",
      "metadata": {
        "colab": {
          "base_uri": "https://localhost:8080/",
          "height": 461
        },
        "id": "df2ugMl8U0sM",
        "outputId": "70827ba4-e1ac-485f-c85a-45b9a64c572a"
      },
      "source": [
        "# contagem dos valores gerados\n",
        "df_saida['new_class'].value_counts().plot.bar(\n",
        "    figsize = (10,7),\n",
        "    rot = 0,\n",
        "    title = '# de novos valores gerados'\n",
        ")"
      ],
      "execution_count": 12,
      "outputs": [
        {
          "output_type": "execute_result",
          "data": {
            "text/plain": [
              "<matplotlib.axes._subplots.AxesSubplot at 0x7fc1411b8710>"
            ]
          },
          "metadata": {
            "tags": []
          },
          "execution_count": 12
        },
        {
          "output_type": "display_data",
          "data": {
            "image/png": "[encoded data removed]",
            "text/plain": [
              "<Figure size 720x504 with 1 Axes>"
            ]
          },
          "metadata": {
            "tags": [],
            "needs_background": "light"
          }
        }
      ]
    },
    {
      "cell_type": "code",
      "metadata": {
        "colab": {
          "base_uri": "https://localhost:8080/",
          "height": 552
        },
        "id": "5ACohukmU0sN",
        "outputId": "591117c0-3f9e-4159-e6ea-4a35cda054cd"
      },
      "source": [
        "# boxplot\n",
        "df_saida.boxplot(by = 'new_class', figsize = (10,7))"
      ],
      "execution_count": 13,
      "outputs": [
        {
          "output_type": "stream",
          "text": [
            "/usr/local/lib/python3.7/dist-packages/numpy/core/_asarray.py:83: VisibleDeprecationWarning: Creating an ndarray from ragged nested sequences (which is a list-or-tuple of lists-or-tuples-or ndarrays with different lengths or shapes) is deprecated. If you meant to do this, you must specify 'dtype=object' when creating the ndarray\n",
            "  return array(a, dtype, copy=False, order=order)\n"
          ],
          "name": "stderr"
        },
        {
          "output_type": "execute_result",
          "data": {
            "text/plain": [
              "<matplotlib.axes._subplots.AxesSubplot at 0x7fc14108c810>"
            ]
          },
          "metadata": {
            "tags": []
          },
          "execution_count": 13
        },
        {
          "output_type": "display_data",
          "data": {
            "image/png": "[encoded data removed]",
            "text/plain": [
              "<Figure size 720x504 with 1 Axes>"
            ]
          },
          "metadata": {
            "tags": [],
            "needs_background": "light"
          }
        }
      ]
    },
    {
      "cell_type": "code",
      "metadata": {
        "id": "VvT6VFv5U0sN"
      },
      "source": [
        "# Sistema Automatico\n",
        "def classify_temp():\n",
        "    ask = True\n",
        "    while ask:\n",
        "        temp = float(input('Insira a temperatura'))\n",
        "        temp = np.array(temp).reshape(-1,1)\n",
        "        class_temp = clf.predict(temp)\n",
        "        class_temp = le.inverse_transform(class_temp)\n",
        "        print(f'A classificação da temperatura {temp.ravel()[0]} é: {class_temp[0]}')\n",
        "        ask = input('Nova Classificação (y/n): ') == 'y'"
      ],
      "execution_count": 14,
      "outputs": []
    },
    {
      "cell_type": "code",
      "metadata": {
        "id": "lw7fv2PKU0sO"
      },
      "source": [
        "# chamando a sistema automatico\n",
        "classify_temp()"
      ],
      "execution_count": null,
      "outputs": []
    },
    {
      "cell_type": "markdown",
      "metadata": {
        "id": "NnApmdLAU0sO"
      },
      "source": [
        "## Regressão Linear"
      ]
    },
    {
      "cell_type": "code",
      "metadata": {
        "id": "6WfzLLDoU0sO"
      },
      "source": [
        "# dados\n",
        "x = [-1, -0.77777778, -0.555555559, -0.33333333, -0.1111111111, 0.11111111111, 0.3333333333, 0.555555555, 0.777777778, 1]\n",
        "y = [-1.111189389, -0.55859058, -0.2098098, 0.54495884, 0.4993839, 1.1429048, 1.6409090, 2.13434234, 2.6434333, 2.95334342]"
      ],
      "execution_count": null,
      "outputs": []
    },
    {
      "cell_type": "code",
      "metadata": {
        "id": "-ujlY9aQU0sO"
      },
      "source": [
        "# plot dos dados\n",
        "plt.figure(figsize = (10, 5))\n",
        "plt.plot(x, y, 'o', label = 'Dados Originais')\n",
        "plt.legend()\n",
        "plt.xlabel('x')\n",
        "plt.ylabel('y')\n",
        "plt.grid()\n",
        "plt.show()"
      ],
      "execution_count": null,
      "outputs": []
    },
    {
      "cell_type": "code",
      "metadata": {
        "id": "gdHdXPPKU0sP"
      },
      "source": [
        "# tranformando para numpy arraye vetor coluna\n",
        "x, y = np.array(x).reshape(-1,1), np.array(y).reshape(-1,1)\n",
        "\n",
        "# modelo\n",
        "reg = LinearRegression()\n",
        "reg.fit(x, y)"
      ],
      "execution_count": null,
      "outputs": []
    },
    {
      "cell_type": "code",
      "metadata": {
        "id": "scbGhDQvU0sP"
      },
      "source": [
        "# valor estimado de a e b\n",
        "print('a = ', reg.coef_.ravel()[0])\n",
        "print('b = ', reg.intercept_[0])"
      ],
      "execution_count": null,
      "outputs": []
    },
    {
      "cell_type": "code",
      "metadata": {
        "id": "pnowHZZLU0sQ"
      },
      "source": [
        "# predição do modelo\n",
        "y_pred = reg.predict(x)"
      ],
      "execution_count": null,
      "outputs": []
    },
    {
      "cell_type": "code",
      "metadata": {
        "id": "VFq0V6fjU0sQ"
      },
      "source": [
        "# score do modelo\n",
        "print('score = ', reg.score(x,y))"
      ],
      "execution_count": null,
      "outputs": []
    }
  ]
}